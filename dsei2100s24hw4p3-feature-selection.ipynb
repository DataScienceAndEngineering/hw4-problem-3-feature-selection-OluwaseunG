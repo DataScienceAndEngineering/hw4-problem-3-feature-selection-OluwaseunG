{
  "cells": [
    {
      "cell_type": "markdown",
      "id": "aa4a39cd-ed35-4ad8-aa61-28d8a420a3c1",
      "metadata": {},
      "source": [
        "# HW04: Problem 3: Feature Selection\n",
        "\n",
        "## Description\n",
        "\n",
        "In this problem we will work with the diabetes dataset from sklearn. This data set is for a regression problem where 10 features are used to predict the progression of diabetes. The dataset is described in more detail [here](https://scikit-learn.org/stable/datasets/toy_dataset.html#diabetes-dataset). You task here is to use multiple techniques of feature selection to try to interpret the strength of the features in the dataset. You will need to use the following techniques:\n",
        "\n",
        "- Pearson correlation coefficient using r_regression from sklearn (univariate feature selection)\n",
        "- Mutual information using mutual_info_regression from sklearn (univariate feature selection)\n",
        "- Random forest feature importance using RandomForestRegressor from sklearn (multivariate feature selection)\n",
        "- Recursive feature elimination using sklearn.feature.selection.RFE with a Support Vector Regressor SVR (multivariate feature selection)\n",
        "\n",
        "For each method you will need to plot the feature importance as a bar graph. The importance goes by different names in different algorithms. For example, in r_regression it is just the output (r value) and the mutual information in mutual_info_regression. In random variable it is called feature_importance_ and in RFE it is the ranking_. The bar graph will be sorted from most important features to least important features, with the y value being the importance of that feature, and the x value being the rank but labeled with the feature name.\n",
        "You will also need to print out the top 5 features for each method. You will need to use the following code to load the data and split it into training and testing sets. You will need to use the training set for all of the feature selection methods.\n",
        "\n",
        "* Are there 3 features that are selected in the top 5 by all 4 methods? \n",
        "* If so, what are they? \n",
        "* If not, what are the 3 features that are selected by the most methods? \n",
        "* How would it be possible that univariate methods might select different features than multivariate methods? \n",
        "* How does dependence between features affect the feature selection methods?\n",
        "\n",
        "For good habits, make sure you split your code into training and testing. You may not even use the testing data but when you do any analysis such as feature selection, remember you must not use the testing data. You should also make sure you use the same random seed for all of your feature selection methods so that you can compare the results.\n",
        "\n",
        "## Hints: In sorting features you use \"arg\" sort. This will return the indices of the sorted array. You can use these indices to sort the feature names.\n",
        "\n",
        "This kind of code will be useful for plotting the bar graph:\n",
        "\n",
        "```python\n",
        "r_inds = np.argsort(np.abs(r_importance))[::-1]\n",
        "fig, ax = plt.subplots()\n",
        "rank = np.arange(len(data.feature_names))\n",
        "ax.bar(rank, r_importance[r_inds])\n",
        "ax.set_xticks(rank)\n",
        "ax.set_xticklabels(np.array(data.feature_names)[r_inds])\n",
        "```"
      ]
    },
    {
      "cell_type": "code",
      "execution_count": 1,
      "id": "24211c5d-8831-4401-a941-1ae3c6e33e09",
      "metadata": {},
      "outputs": [],
      "source": [
        "# Some imports you will need\n",
        "import numpy as np\n",
        "from sklearn.datasets import load_diabetes\n",
        "from sklearn.model_selection import train_test_split\n",
        "from matplotlib import pyplot as plt\n",
        "from numpy import corrcoef\n",
        "import seaborn as sns\n",
        "from sklearn.feature_selection import r_regression\n",
        "from sklearn.feature_selection import mutual_info_regression\n",
        "from sklearn.feature_selection import RFE\n",
        "from sklearn.ensemble import RandomForestRegressor\n",
        "from sklearn.svm import SVR"
      ]
    },
    {
      "cell_type": "markdown",
      "id": "68bffa0c-62aa-4da5-a81a-db0992f58fe6",
      "metadata": {},
      "source": [
        "## Loading and preparing the data"
      ]
    },
    {
      "cell_type": "code",
      "execution_count": 2,
      "id": "1cf42116-e3c2-4343-87e8-1e6c7986f51c",
      "metadata": {},
      "outputs": [],
      "source": [
        "# Load the diabetes data set as X, y\n",
        "X, y = load_diabetes(return_X_y=True)\n",
        "# Load the diabetes data set as data to read the description\n",
        "data = load_diabetes()"
      ]
    },
    {
      "cell_type": "code",
      "execution_count": 18,
      "id": "6b91fa04-a015-402c-b439-dbbcd2638a1a",
      "metadata": {},
      "outputs": [
        {
          "name": "stdout",
          "output_type": "stream",
          "text": [
            ".. _diabetes_dataset:\n",
            "\n",
            "Diabetes dataset\n",
            "----------------\n",
            "\n",
            "Ten baseline variables, age, sex, body mass index, average blood\n",
            "pressure, and six blood serum measurements were obtained for each of n =\n",
            "442 diabetes patients, as well as the response of interest, a\n",
            "quantitative measure of disease progression one year after baseline.\n",
            "\n",
            "**Data Set Characteristics:**\n",
            "\n",
            ":Number of Instances: 442\n",
            "\n",
            ":Number of Attributes: First 10 columns are numeric predictive values\n",
            "\n",
            ":Target: Column 11 is a quantitative measure of disease progression one year after baseline\n",
            "\n",
            ":Attribute Information:\n",
            "    - age     age in years\n",
            "    - sex\n",
            "    - bmi     body mass index\n",
            "    - bp      average blood pressure\n",
            "    - s1      tc, total serum cholesterol\n",
            "    - s2      ldl, low-density lipoproteins\n",
            "    - s3      hdl, high-density lipoproteins\n",
            "    - s4      tch, total cholesterol / HDL\n",
            "    - s5      ltg, possibly log of serum triglycerides level\n",
            "    - s6      glu, blood sugar level\n",
            "\n",
            "Note: Each of these 10 feature variables have been mean centered and scaled by the standard deviation times the square root of `n_samples` (i.e. the sum of squares of each column totals 1).\n",
            "\n",
            "Source URL:\n",
            "https://www4.stat.ncsu.edu/~boos/var.select/diabetes.html\n",
            "\n",
            "For more information see:\n",
            "Bradley Efron, Trevor Hastie, Iain Johnstone and Robert Tibshirani (2004) \"Least Angle Regression,\" Annals of Statistics (with discussion), 407-499.\n",
            "(https://web.stanford.edu/~hastie/Papers/LARS/LeastAngle_2002.pdf)\n",
            "\n"
          ]
        }
      ],
      "source": [
        "# Print out the DESCR attribute to inpect the variables\n",
        "print(data.DESCR)"
      ]
    },
    {
      "cell_type": "code",
      "execution_count": 3,
      "id": "1b6f5d6f-4a81-4b97-9ca3-a15ac360e52e",
      "metadata": {},
      "outputs": [
        {
          "name": "stdout",
          "output_type": "stream",
          "text": [
            "['age', 'sex', 'bmi', 'bp', 's1', 's2', 's3', 's4', 's5', 's6']\n"
          ]
        }
      ],
      "source": [
        "# Print the array of feature names\n",
        "print(data.feature_names)"
      ]
    },
    {
      "cell_type": "code",
      "execution_count": 4,
      "id": "5130ef8b-7364-42c5-bfbe-abcabe5e5592",
      "metadata": {},
      "outputs": [],
      "source": [
        "# Split the Data into train/testing sets\n",
        "X_train,X_test, y_train, y_test=train_test_split(X,y, test_size=0.2, random_state=42)"
      ]
    },
    {
      "cell_type": "code",
      "execution_count": 5,
      "id": "8eb090c2-a531-4432-b10a-3192a0d25383",
      "metadata": {},
      "outputs": [
        {
          "name": "stdout",
          "output_type": "stream",
          "text": [
            "(353, 10)\n",
            "(89, 10)\n",
            "(353,)\n",
            "(89,)\n"
          ]
        }
      ],
      "source": [
        "# Check the shapes\n",
        "print(X_train.shape)\n",
        "print(X_test.shape)\n",
        "print(y_train.shape)\n",
        "print(y_test.shape)\n",
        "\n"
      ]
    },
    {
      "cell_type": "code",
      "execution_count": 15,
      "id": "f99a2c03-e007-491f-96cd-a13ff768a319",
      "metadata": {},
      "outputs": [
        {
          "ename": "TypeError",
          "evalue": "'data' must be pandas DataFrame object, not: <class 'sklearn.utils._bunch.Bunch'>",
          "output_type": "error",
          "traceback": [
            "\u001b[0;31m---------------------------------------------------------------------------\u001b[0m",
            "\u001b[0;31mTypeError\u001b[0m                                 Traceback (most recent call last)",
            "Cell \u001b[0;32mIn[15], line 2\u001b[0m\n\u001b[1;32m      1\u001b[0m \u001b[38;5;66;03m# Do a pair plot \u001b[39;00m\n\u001b[0;32m----> 2\u001b[0m \u001b[43msns\u001b[49m\u001b[38;5;241;43m.\u001b[39;49m\u001b[43mpairplot\u001b[49m\u001b[43m(\u001b[49m\u001b[43mdata\u001b[49m\u001b[38;5;241;43m=\u001b[39;49m\u001b[43mdata\u001b[49m\u001b[43m)\u001b[49m\n",
            "File \u001b[0;32m~/.local/lib/python3.10/site-packages/seaborn/axisgrid.py:2103\u001b[0m, in \u001b[0;36mpairplot\u001b[0;34m(data, hue, hue_order, palette, vars, x_vars, y_vars, kind, diag_kind, markers, height, aspect, corner, dropna, plot_kws, diag_kws, grid_kws, size)\u001b[0m\n\u001b[1;32m   2100\u001b[0m     warnings\u001b[38;5;241m.\u001b[39mwarn(msg, \u001b[38;5;167;01mUserWarning\u001b[39;00m)\n\u001b[1;32m   2102\u001b[0m \u001b[38;5;28;01mif\u001b[39;00m \u001b[38;5;129;01mnot\u001b[39;00m \u001b[38;5;28misinstance\u001b[39m(data, pd\u001b[38;5;241m.\u001b[39mDataFrame):\n\u001b[0;32m-> 2103\u001b[0m     \u001b[38;5;28;01mraise\u001b[39;00m \u001b[38;5;167;01mTypeError\u001b[39;00m(\n\u001b[1;32m   2104\u001b[0m         \u001b[38;5;124mf\u001b[39m\u001b[38;5;124m\"\u001b[39m\u001b[38;5;124m'\u001b[39m\u001b[38;5;124mdata\u001b[39m\u001b[38;5;124m'\u001b[39m\u001b[38;5;124m must be pandas DataFrame object, not: \u001b[39m\u001b[38;5;132;01m{\u001b[39;00m\u001b[38;5;28mtype\u001b[39m(data)\u001b[38;5;132;01m}\u001b[39;00m\u001b[38;5;124m\"\u001b[39m)\n\u001b[1;32m   2106\u001b[0m plot_kws \u001b[38;5;241m=\u001b[39m {} \u001b[38;5;28;01mif\u001b[39;00m plot_kws \u001b[38;5;129;01mis\u001b[39;00m \u001b[38;5;28;01mNone\u001b[39;00m \u001b[38;5;28;01melse\u001b[39;00m plot_kws\u001b[38;5;241m.\u001b[39mcopy()\n\u001b[1;32m   2107\u001b[0m diag_kws \u001b[38;5;241m=\u001b[39m {} \u001b[38;5;28;01mif\u001b[39;00m diag_kws \u001b[38;5;129;01mis\u001b[39;00m \u001b[38;5;28;01mNone\u001b[39;00m \u001b[38;5;28;01melse\u001b[39;00m diag_kws\u001b[38;5;241m.\u001b[39mcopy()\n",
            "\u001b[0;31mTypeError\u001b[0m: 'data' must be pandas DataFrame object, not: <class 'sklearn.utils._bunch.Bunch'>"
          ]
        }
      ],
      "source": [
        "# Do a pair plot \n",
        "sns.pairplot()"
      ]
    },
    {
      "cell_type": "markdown",
      "id": "d9e62670-d3e4-4359-a24a-65161d4c61f1",
      "metadata": {},
      "source": [
        "Q: What does the EDA tell you about the data?\n",
        "\n",
        "A Here: "
      ]
    },
    {
      "cell_type": "markdown",
      "id": "4f40b553-b6f6-4fd7-866a-d00ac8875a7c",
      "metadata": {},
      "source": [
        "## Univariate feature selection with r_regression"
      ]
    },
    {
      "cell_type": "code",
      "execution_count": 10,
      "id": "8c54fe6d-df5f-4117-bf4a-5ec10f30274f",
      "metadata": {},
      "outputs": [
        {
          "data": {
            "image/png": "[encoded data removed]",
            "text/plain": [
              "<Figure size 640x480 with 1 Axes>"
            ]
          },
          "metadata": {},
          "output_type": "display_data"
        }
      ],
      "source": [
        "# Use r_regression to get the feature importance, sort by the absolute value\n",
        "# but show the signed value on y and label on x by variable name\n",
        "# Should be a bar graph\n",
        "r_importance=r_regression(X_train, y_train)\n",
        "r_inds=np.argsort(np.abs(r_importance))[::-1]\n",
        "fig, ax=plt.subplots()\n",
        "rank=np.arange(len(data.feature_names))\n",
        "ax.bar(rank, r_importance[r_inds])\n",
        "ax.set_xticks(rank)\n",
        "ax.set_xticklabels(np.array(data.feature_names)[r_inds])\n",
        "plt.show()\n"
      ]
    },
    {
      "cell_type": "code",
      "execution_count": 17,
      "id": "6c2289c4-a12c-4fec-b810-c31b12927459",
      "metadata": {},
      "outputs": [
        {
          "name": "stdout",
          "output_type": "stream",
          "text": [
            "Top 5 features according to r_regression\n",
            "bmi:0.1965096791850736\n",
            "s5:0.00711617198864745\n",
            "bp:0.6047512938220246\n",
            "s4:0.4447703925961575\n",
            "s6:0.19954719987490935\n"
          ]
        },
        {
          "data": {
            "text/plain": [
              "[None, None, None, None, None]"
            ]
          },
          "execution_count": 17,
          "metadata": {},
          "output_type": "execute_result"
        }
      ],
      "source": [
        "# print the top 5 features according to r_regression?\n",
        "top_5_indices=r_inds[:5]\n",
        "top_five_features=np.array(data.feature_names)[top_5_indices]\n",
        "print(\"Top 5 features according to r_regression\")\n",
        "[print(f\"{feature}:{importance}\") for feature, importance in zip(top_five_features, r_importance)]\n"
      ]
    },
    {
      "cell_type": "markdown",
      "id": "f727134c-16a5-406e-a19e-d0eebcf85348",
      "metadata": {},
      "source": [
        "## Univariate feature selection with mutual information using mutual_info_regression"
      ]
    },
    {
      "cell_type": "code",
      "execution_count": 12,
      "id": "ce8e90e9-28be-4523-9517-17f9b7837c82",
      "metadata": {},
      "outputs": [
        {
          "data": {
            "image/png": "[encoded data removed]",
            "text/plain": [
              "<Figure size 640x480 with 1 Axes>"
            ]
          },
          "metadata": {},
          "output_type": "display_data"
        }
      ],
      "source": [
        "# Use mutual_info_regression to get the feature importance, sort by the absolute value\n",
        "# but show the signed value on y and label on x by variable name\n",
        "# Should be a bar graph\n",
        "mu_importance=mutual_info_regression(X_train, y_train)\n",
        "mu_inds=np.argsort(np.abs(mu_importance))[::-1]\n",
        "fig, ax=plt.subplots()\n",
        "rank=np.arange(len(data.feature_names))\n",
        "ax.bar(rank, mu_importance[mu_inds])\n",
        "ax.set_xticks(rank)\n",
        "ax.set_xticklabels(np.array(data.feature_names)[mu_inds])\n",
        "plt.show()\n"
      ]
    },
    {
      "cell_type": "code",
      "execution_count": 16,
      "id": "fa0b71bf-f413-48c8-833e-21ec48277f27",
      "metadata": {},
      "outputs": [
        {
          "name": "stdout",
          "output_type": "stream",
          "text": [
            "Top 5 features according to mutual_info_regression\n",
            "bmi:0.0\n",
            "s5:0.024838137777348113\n",
            "s6:0.277144349159403\n",
            "s4:0.0685552305495305\n",
            "s2:0.00432758264151234\n"
          ]
        },
        {
          "data": {
            "text/plain": [
              "[None, None, None, None, None]"
            ]
          },
          "execution_count": 16,
          "metadata": {},
          "output_type": "execute_result"
        }
      ],
      "source": [
        "# What are the top 5 features according to mutual_info_regression?\n",
        "print(\"Top 5 features according to mutual_info_regression\")\n",
        "[print(f\"{feature}:{importance}\") for feature, importance in zip(top_five_features, mu_importance)]\n"
      ]
    },
    {
      "cell_type": "markdown",
      "id": "72fecc71-72fd-4f33-ac39-ad97d593983e",
      "metadata": {},
      "source": [
        "## Multivariate feature selection with Random Forest feature_importance_"
      ]
    },
    {
      "cell_type": "code",
      "execution_count": 14,
      "id": "592443ba-5f5f-4f48-9488-25eaeb699ce7",
      "metadata": {},
      "outputs": [
        {
          "data": {
            "image/png": "[encoded data removed]",
            "text/plain": [
              "<Figure size 640x480 with 1 Axes>"
            ]
          },
          "metadata": {},
          "output_type": "display_data"
        }
      ],
      "source": [
        "# Use random forest feature_importance_ to get the feature importance, sort by the absolute value\n",
        "# but show the signed value on y and label on x by variable name\n",
        "# Should be a bar graph\n",
        "random_f=RandomForestRegressor(random_state=42)\n",
        "random_f.fit(X_train, y_train)\n",
        "rf_importance=random_f.feature_importances_\n",
        "rf_inds=np.argsort(np.abs(rf_importance))[::-1]\n",
        "fig, ax=plt.subplots()\n",
        "rank=np.arange(len(data.feature_names))\n",
        "ax.bar(rank, rf_importance[rf_inds])\n",
        "ax.set_xticks(rank)\n",
        "ax.set_xticklabels(np.array(data.feature_names)[rf_inds])\n",
        "plt.show()"
      ]
    },
    {
      "cell_type": "code",
      "execution_count": 18,
      "id": "fdb44bb7-c6e1-499e-863b-da7417152b3a",
      "metadata": {},
      "outputs": [
        {
          "name": "stdout",
          "output_type": "stream",
          "text": [
            "Top 5 features according to random forest feature_importance_\n",
            "bmi:0.05864166923375727\n",
            "s5:0.009633039133228249\n",
            "bp:0.3554689806456928\n",
            "s4:0.08840758661543732\n",
            "s6:0.05278353405458833\n"
          ]
        },
        {
          "data": {
            "text/plain": [
              "[None, None, None, None, None]"
            ]
          },
          "execution_count": 18,
          "metadata": {},
          "output_type": "execute_result"
        }
      ],
      "source": [
        "# What are the top 5 features according to random forest feature_importance_?\n",
        "print(\"Top 5 features according to random forest feature_importance_\")\n",
        "[print(f\"{feature}:{importance}\") for feature, importance in zip(top_five_features, rf_importance)]\n"
      ]
    },
    {
      "cell_type": "markdown",
      "id": "bf3e8967-a1ad-42e2-99b4-5119c4f2c0b6",
      "metadata": {},
      "source": [
        "## Multivariate feature selection with recursive feature elimination (RFE) using a support vector regressor"
      ]
    },
    {
      "cell_type": "code",
      "execution_count": 76,
      "id": "f1c92c89-8842-4b38-a3fd-b2413b7459f7",
      "metadata": {},
      "outputs": [],
      "source": [
        "# Use recursive feature elimination (RFE) with a support vector regressor \n",
        "# to get the feature importance, sort by the absolute value\n",
        "# but show the signed value on y and label on x by variable name\n",
        "# Should be a bar graph\n",
        "svr_model=SVR(kernel='linear')\n",
        "#create rfe with svr model\n",
        "rfe=RFE(estimator=svr_model,n_features_to_select=1)\n",
        "rfe.fit(X_train, y_train)\n",
        "\n"
      ]
    },
    {
      "cell_type": "code",
      "execution_count": 64,
      "id": "f77104ef-bbf1-4788-8b3c-6077937cceb4",
      "metadata": {},
      "outputs": [],
      "source": [
        "# What are the top 5 features according to RFE with SVR?"
      ]
    },
    {
      "cell_type": "markdown",
      "id": "2be0d412-fe5f-4d60-b45f-061669037e64",
      "metadata": {},
      "source": [
        "## Conclusions\n",
        "\n",
        "Q1: Are there 3 features that are selected in the top 5 by all 4 methods?\n",
        "\n",
        "A1: Your answer here\n",
        "\n",
        "Q2: If so, what are they? / If not, what are the 3 features that are selected by the most methods? \n",
        "\n",
        "A2: Your answer here\n",
        "\n",
        "Q3: How would it be possible that univariate methods might select different features than multivariate methods?\n",
        "\n",
        "A3: Your answer here\n",
        "\n",
        "Q4: How does dependence between features affect the feature selection methods?\n",
        "\n",
        "Q4: Your answer here"
      ]
    },
    {
      "cell_type": "code",
      "execution_count": null,
      "id": "c1bc1277-1d2b-4d1a-848a-bd5e99ec4e2e",
      "metadata": {},
      "outputs": [],
      "source": []
    }
  ],
  "metadata": {
    "kernelspec": {
      "display_name": "Python 3 (ipykernel)",
      "language": "python",
      "name": "python3"
    },
    "language_info": {
      "codemirror_mode": {
        "name": "ipython",
        "version": 3
      },
      "file_extension": ".py",
      "mimetype": "text/x-python",
      "name": "python",
      "nbconvert_exporter": "python",
      "pygments_lexer": "ipython3",
      "version": "3.10.13"
    },
    "nteract": {
      "version": "0.28.0"
    }
  },
  "nbformat": 4,
  "nbformat_minor": 5
}
